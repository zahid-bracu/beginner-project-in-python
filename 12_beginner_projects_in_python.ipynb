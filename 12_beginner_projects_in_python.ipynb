{
  "nbformat": 4,
  "nbformat_minor": 0,
  "metadata": {
    "colab": {
      "provenance": []
    },
    "kernelspec": {
      "name": "python3",
      "display_name": "Python 3"
    },
    "language_info": {
      "name": "python"
    }
  },
  "cells": [
    {
      "cell_type": "markdown",
      "source": [
        "#MadLibs Project\n"
      ],
      "metadata": {
        "id": "OHAbWPfmb8YR"
      }
    },
    {
      "cell_type": "code",
      "source": [
        "youtuber=\"Md. Zahidur Rahman\"\n",
        "print(\"Subscribe to \"+youtuber)\n",
        "print(\"Subscribe to {}\".format(youtuber))\n",
        "print(f\"Subscribe to {youtuber}\")"
      ],
      "metadata": {
        "colab": {
          "base_uri": "https://localhost:8080/"
        },
        "id": "XqzNv9M7b_TZ",
        "outputId": "32ec6106-f418-4327-879a-14816d553a4a"
      },
      "execution_count": null,
      "outputs": [
        {
          "output_type": "stream",
          "name": "stdout",
          "text": [
            "Subscribe to Md. Zahidur Rahman\n",
            "Subscribe to Md. Zahidur Rahman\n",
            "Subscribe to Md. Zahidur Rahman\n"
          ]
        }
      ]
    },
    {
      "cell_type": "code",
      "source": [
        "adjective=input(\"How do you feel about programming?\\n\")\n",
        "verb1=input(\"What do love about programming?\\n\")\n",
        "verb2=input(\"How do you want to stay?\\n\")\n",
        "famous=input(\"Who was the CEO of facebook?\\n\")\n",
        "madlibs=f\"computer programming is so {adjective}!!. It makes me so excited all the time because \\ I love to do {verb1}. Stay cool and {verb2} like you are {famous}\"\n",
        "print(madlibs)"
      ],
      "metadata": {
        "colab": {
          "base_uri": "https://localhost:8080/"
        },
        "id": "w4h90BGRcrpL",
        "outputId": "ec0a1d0d-6aec-4fb9-f28d-aa45ef8691c6"
      },
      "execution_count": null,
      "outputs": [
        {
          "output_type": "stream",
          "name": "stdout",
          "text": [
            "How do you feel about programming?\n",
            "good\n",
            "What do love about programming?\n",
            "coding\n",
            "How do you want to stay?\n",
            "classy\n",
            "Who was the CEO of facebook?\n",
            "zuck\n",
            "computer programming is so good!!. It makes me so excited all the time because \\ I love to do coding. Stay cool and classy like you are zuck\n"
          ]
        }
      ]
    },
    {
      "cell_type": "markdown",
      "source": [
        "#Guess the number Project\n"
      ],
      "metadata": {
        "id": "Q-AQaEIAeTnY"
      }
    },
    {
      "cell_type": "code",
      "source": [
        "import random\n",
        "\n",
        "def guess(value):\n",
        "  random_num=random.randint(0,value)\n",
        "  guess=0\n",
        "  while(guess!=random_num):\n",
        "    guess=int(input(\"Guess the Number : \\n\"))\n",
        "    if guess>random_num:\n",
        "      print(\"The number is too high\")\n",
        "    elif guess<random_num:\n",
        "      print(\"The number is too low\")\n",
        "  print(\"Your guess is correct\")\n",
        "guess(10)"
      ],
      "metadata": {
        "colab": {
          "base_uri": "https://localhost:8080/"
        },
        "id": "awk3Uu-keXs_",
        "outputId": "dbf5c50d-05d3-4800-885b-92ce8ce069d2"
      },
      "execution_count": null,
      "outputs": [
        {
          "output_type": "stream",
          "name": "stdout",
          "text": [
            "Guess the Number : \n",
            "5\n",
            "The number is too high\n",
            "Guess the Number : \n",
            "2\n",
            "Your guess is correct\n"
          ]
        }
      ]
    }
  ]
}