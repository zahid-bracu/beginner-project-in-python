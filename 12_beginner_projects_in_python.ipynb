{
  "nbformat": 4,
  "nbformat_minor": 0,
  "metadata": {
    "colab": {
      "provenance": []
    },
    "kernelspec": {
      "name": "python3",
      "display_name": "Python 3"
    },
    "language_info": {
      "name": "python"
    }
  },
  "cells": [
    {
      "cell_type": "markdown",
      "source": [
        "#MadLibs Project\n"
      ],
      "metadata": {
        "id": "OHAbWPfmb8YR"
      }
    },
    {
      "cell_type": "code",
      "source": [
        "youtuber=\"Md. Zahidur Rahman\"\n",
        "print(\"Subscribe to \"+youtuber)\n",
        "print(\"Subscribe to {}\".format(youtuber))\n",
        "print(f\"Subscribe to {youtuber}\")"
      ],
      "metadata": {
        "colab": {
          "base_uri": "https://localhost:8080/"
        },
        "id": "XqzNv9M7b_TZ",
        "outputId": "32ec6106-f418-4327-879a-14816d553a4a"
      },
      "execution_count": null,
      "outputs": [
        {
          "output_type": "stream",
          "name": "stdout",
          "text": [
            "Subscribe to Md. Zahidur Rahman\n",
            "Subscribe to Md. Zahidur Rahman\n",
            "Subscribe to Md. Zahidur Rahman\n"
          ]
        }
      ]
    },
    {
      "cell_type": "code",
      "source": [
        "adjective=input(\"How do you feel about programming?\\n\")\n",
        "verb1=input(\"What do love about programming?\\n\")\n",
        "verb2=input(\"How do you want to stay?\\n\")\n",
        "famous=input(\"Who was the CEO of facebook?\\n\")\n",
        "madlibs=f\"computer programming is so {adjective}!!. It makes me so excited all the time because \\ I love to do {verb1}. Stay cool and {verb2} like you are {famous}\"\n",
        "print(madlibs)"
      ],
      "metadata": {
        "colab": {
          "base_uri": "https://localhost:8080/"
        },
        "id": "w4h90BGRcrpL",
        "outputId": "ec0a1d0d-6aec-4fb9-f28d-aa45ef8691c6"
      },
      "execution_count": null,
      "outputs": [
        {
          "output_type": "stream",
          "name": "stdout",
          "text": [
            "How do you feel about programming?\n",
            "good\n",
            "What do love about programming?\n",
            "coding\n",
            "How do you want to stay?\n",
            "classy\n",
            "Who was the CEO of facebook?\n",
            "zuck\n",
            "computer programming is so good!!. It makes me so excited all the time because \\ I love to do coding. Stay cool and classy like you are zuck\n"
          ]
        }
      ]
    },
    {
      "cell_type": "markdown",
      "source": [
        "#Guess the number Project\n"
      ],
      "metadata": {
        "id": "Q-AQaEIAeTnY"
      }
    },
    {
      "cell_type": "code",
      "source": [
        "import random\n",
        "\n",
        "def guess(value):\n",
        "  random_num=random.randint(0,value)\n",
        "  guess=0\n",
        "  while(guess!=random_num):\n",
        "    guess=int(input(\"Guess the Number : \\n\"))\n",
        "    if guess>random_num:\n",
        "      print(\"The number is too high\")\n",
        "    elif guess<random_num:\n",
        "      print(\"The number is too low\")\n",
        "  print(\"Your guess is correct\")\n",
        "limit=int(input(\"Enter the value of highest limit for creating the random number\"))\n",
        "guess(limit)"
      ],
      "metadata": {
        "colab": {
          "base_uri": "https://localhost:8080/"
        },
        "id": "awk3Uu-keXs_",
        "outputId": "7db1bd33-2bd9-48ba-e8d5-45114cdda0c2"
      },
      "execution_count": 1,
      "outputs": [
        {
          "output_type": "stream",
          "name": "stdout",
          "text": [
            "Enter the value of highest limit for creating the random number100\n",
            "Guess the Number : \n",
            "50\n",
            "The number is too low\n",
            "Guess the Number : \n",
            "70\n",
            "The number is too high\n",
            "Guess the Number : \n",
            "60\n",
            "The number is too high\n",
            "Guess the Number : \n",
            "55\n",
            "The number is too high\n",
            "Guess the Number : \n",
            "54\n",
            "The number is too high\n",
            "Guess the Number : \n",
            "51\n",
            "The number is too low\n",
            "Guess the Number : \n",
            "53\n",
            "Your guess is correct\n"
          ]
        }
      ]
    },
    {
      "cell_type": "code",
      "source": [
        "import random\n",
        "def computer_guess(value):\n",
        "  low=0\n",
        "  high=value\n",
        "  feedback=''\n",
        "  while feedback!='c':\n",
        "    guess=random.randint(low,high)\n",
        "    feedback=input(f\"Is this the number {guess} correct? put 'h' for high , put 'l' for low , put 'c' for correct \\n\").lower()\n",
        "    if feedback=='h':\n",
        "      high=guess-1\n",
        "    elif feedback=='l':\n",
        "      low=guess+1\n",
        "  print(f\"yes your number is {guess} \\n\")\n",
        "computer_guess(int(input(\"Please Enter upper limit : \\n\")))\n"
      ],
      "metadata": {
        "colab": {
          "base_uri": "https://localhost:8080/"
        },
        "id": "9EHEPewo9YAD",
        "outputId": "e033f851-5432-4f2a-ee8f-3ccd96ca3358"
      },
      "execution_count": 3,
      "outputs": [
        {
          "output_type": "stream",
          "name": "stdout",
          "text": [
            "Please Enter upper limit : \n",
            "30\n",
            "Is this the number 12 correct? put 'h' for high , put 'l' for low , put 'c' for correct \n",
            "l\n",
            "Is this the number 27 correct? put 'h' for high , put 'l' for low , put 'c' for correct \n",
            "h\n",
            "Is this the number 20 correct? put 'h' for high , put 'l' for low , put 'c' for correct \n",
            "h\n",
            "Is this the number 16 correct? put 'h' for high , put 'l' for low , put 'c' for correct \n",
            "h\n",
            "Is this the number 15 correct? put 'h' for high , put 'l' for low , put 'c' for correct \n",
            "h\n",
            "Is this the number 13 correct? put 'h' for high , put 'l' for low , put 'c' for correct \n",
            "c\n",
            "yes your number is 13 \n",
            "\n"
          ]
        }
      ]
    },
    {
      "cell_type": "code",
      "source": [
        "import random\n",
        "\n",
        "def play():\n",
        "  user=input(\"Enter 'r' for : rock. Enter 'p' for : paper. Enter 's' scissors : \\n\").lower()\n",
        "  computer=random.choice(['r','s','p'])\n",
        "  print(computer)\n",
        "  if user==computer:\n",
        "    print(\"Tie\")\n",
        "  elif (player_is_win(user,computer)):\n",
        "    print(\"You Win\")\n",
        "  else:\n",
        "    print(\"Computer Win\")\n",
        "\n",
        "def player_is_win(user,computer):\n",
        "  if(user=='r' and computer=='s') or (user=='s' and computer=='p') or (user=='p' and computer=='r'):\n",
        "    return True\n",
        "  return False\n",
        "play()\n",
        "\n",
        "\n",
        "#logic :\n",
        "#r > s\n",
        "#s > p\n",
        "#p > s\n"
      ],
      "metadata": {
        "colab": {
          "base_uri": "https://localhost:8080/"
        },
        "id": "sR27Mkl2JyF3",
        "outputId": "c092a62e-f3a8-4b2c-d9ce-3b8bbeee9612"
      },
      "execution_count": 18,
      "outputs": [
        {
          "output_type": "stream",
          "name": "stdout",
          "text": [
            "Enter 'r' for : rock. Enter 'p' for : paper. Enter 's' scissors : \n",
            "r\n",
            "s\n",
            "You Win\n"
          ]
        }
      ]
    }
  ]
}